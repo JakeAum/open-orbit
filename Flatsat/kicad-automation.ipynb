{
 "cells": [
  {
   "cell_type": "markdown",
   "metadata": {},
   "source": [
    "# Kicad Automation\n",
    "\n",
    "- [~] Take all OreSat Repos\n",
    "- [x] Search for all subdirectories that contain the word kicad projects\n",
    "- [x] Search for all human written BOMs (.csv or .xlsx)\n",
    "\n",
    "- [ ] Export a zipped folder of all the Gerber files from one PCB\n",
    "- [ ] Export a Kicad BOM from the PCB\n",
    "- [ ] Export a CPL from the PCB\n",
    "\n",
    "Clone a Test Repo\n",
    "`git clone https://github.com/oresat/oresat-batteries.git Flatsat/test_repo`"
   ]
  },
  {
   "cell_type": "code",
   "execution_count": 38,
   "metadata": {},
   "outputs": [
    {
     "name": "stdout",
     "output_type": "stream",
     "text": [
      "test_repo\\kicad\\oresat-batteries-sch-connectors.kicad_sch\n",
      "test_repo\\kicad\\oresat-batteries-sch-microcontroller.kicad_sch\n",
      "test_repo\\kicad\\oresat-batteries-sch-pack-1.kicad_sch\n",
      "test_repo\\kicad\\oresat-batteries-sch-pack-2.kicad_sch\n",
      "test_repo\\kicad\\oresat-batteries-sch-power.kicad_sch\n",
      "test_repo\\kicad\\oresat-batteries.kicad_sch\n",
      "test_repo\\mli-template\\mli-template.kicad_sch\n"
     ]
    }
   ],
   "source": [
    "import glob\n",
    "test_repo_path = r\"test_repo/\"\n",
    "\n",
    "kicad_pcb_files = glob.glob(f\"{test_repo_path}/**/*.kicad_pcb\", recursive=True)\n",
    "kicad_sch_files = glob.glob(f\"{test_repo_path}/**/*.kicad_sch\", recursive=True)\n",
    "\n",
    "human_bom_files = glob.glob(f\"{test_repo_path}/**/*.xlsx\", recursive=True) + glob.glob(f\"{test_repo_path}/**/*.csv\", recursive=True)\n",
    "docs_files = glob.glob(f\"{test_repo_path}/**/docs/\", recursive=True)\n",
    "\n",
    "for path in kicad_sch_files:\n",
    "    print(path)"
   ]
  },
  {
   "cell_type": "code",
   "execution_count": 43,
   "metadata": {},
   "outputs": [],
   "source": [
    "import os\n",
    "\n",
    "test_kicad_pcb_file = r\"test_repo\\kicad\\oresat-batteries.kicad_pcb\"\n",
    "test_kicad_sch_file = r\"test_repo\\kicad\\oresat-batteries.kicad_sch\"\n",
    "\n",
    "name = test_kicad_pcb_file.split(\"\\\\\")[-1].split(\".\")[0]\n",
    "\n",
    "test_kicad_pcb_file = os.path.abspath(test_kicad_pcb_file)\n",
    "test_kicad_sch_file = os.path.abspath(test_kicad_sch_file)\n",
    "\n",
    "output_dir = f\"test_repo\\OUTPUT\"\n",
    "if not os.path.exists(output_dir): os.makedirs(output_dir)\n",
    "output_dir = os.path.abspath(output_dir)"
   ]
  },
  {
   "cell_type": "code",
   "execution_count": 44,
   "metadata": {},
   "outputs": [
    {
     "name": "stdout",
     "output_type": "stream",
     "text": [
      "kicad-cli pcb export pos --format csv --units mm c:\\Users\\17276\\Desktop\\open-orbit\\Flatsat\\test_repo\\kicad\\oresat-batteries.kicad_pcb --output c:\\Users\\17276\\Desktop\\open-orbit\\Flatsat\\test_repo\\OUTPUT\\oresat-batteries_pos.csv\n",
      "kicad-cli sch export bom c:\\Users\\17276\\Desktop\\open-orbit\\Flatsat\\test_repo\\kicad\\oresat-batteries.kicad_sch --output c:\\Users\\17276\\Desktop\\open-orbit\\Flatsat\\test_repo\\OUTPUT\\oresat-batteries_bom.csv\n"
     ]
    }
   ],
   "source": [
    "generate_pos_template = f\"kicad-cli pcb export pos --format csv --units mm {test_kicad_pcb_file} --output {output_dir}\\{name}_pos.csv\"\n",
    "print(generate_pos_template)\n",
    "\n",
    "generate_bom_template = f\"kicad-cli sch export bom {test_kicad_sch_file} --output {output_dir}\\{name}_bom.csv\"\n",
    "print(generate_bom_template)\n"
   ]
  }
 ],
 "metadata": {
  "kernelspec": {
   "display_name": "Python 3",
   "language": "python",
   "name": "python3"
  },
  "language_info": {
   "codemirror_mode": {
    "name": "ipython",
    "version": 3
   },
   "file_extension": ".py",
   "mimetype": "text/x-python",
   "name": "python",
   "nbconvert_exporter": "python",
   "pygments_lexer": "ipython3",
   "version": "3.11.3"
  }
 },
 "nbformat": 4,
 "nbformat_minor": 2
}
